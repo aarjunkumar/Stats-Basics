{
  "nbformat": 4,
  "nbformat_minor": 0,
  "metadata": {
    "colab": {
      "provenance": []
    },
    "kernelspec": {
      "name": "python3",
      "display_name": "Python 3"
    },
    "language_info": {
      "name": "python"
    }
  },
  "cells": [
    {
      "cell_type": "markdown",
      "source": [
        "Q1. Explain the different types of data (qualitative and quantitative) and provide examples of each. Discuss nominal, ordinal, interval, and ratio scales.\n",
        "\n",
        "Sol.\n",
        "\n",
        "# Types Of Data\n",
        "\n",
        "1. Quantative Data:-\n",
        "\n",
        "  Quantitative data represents numerical values and can be measured or counted. This type of data expresses quantities, allowing for mathematical calculations and statistical analysis.\n",
        "\n",
        "  Types of Quantitative Data:-\n",
        "\n",
        "  1. Discrete: Quantitative data with distinct, separate values, often representing counts.\n",
        "  \n",
        "    Example: Number of students in a class,Number of mobile phones we have.\n",
        "  \n",
        "  2. Continuous: Quantitative data with an infinite range of values within a range, often representing measurements.\n",
        "    \n",
        "    Example: Height of individuals,Weight of students in a class.\n",
        "\n",
        "2. Qualitative Data:-\n",
        "\n",
        "  Qualitative data, also known as categorical data, describes qualities or characteristics that cannot be measured numerically.\n",
        "\n",
        "  Types of Qualitative Data:-\n",
        "    \n",
        "  1. Nominal: Categorical data with no inherent order.\n",
        "    \n",
        "    Example: Types of cuisine,Types of languages we know.\n",
        "\n",
        "  2. Ordinal: Categorical data with a ranked or ordered structure.\n",
        "    \n",
        "    Example: Rank of students in a class, Diffrent grades given to students.\n",
        "\n",
        "  \n",
        "#  Scales of measurement\n",
        "\n",
        "1. Nominal Scale:- Use for categorical data where there is no order among the categories.\n",
        "\n",
        "  example:- Blood Group,Gender\n",
        "\n",
        "2. Ordinal Scale:- In this data can be ranked or ordered but the differences between the ranks are not standardized.\n",
        "  \n",
        "  example:- Educational Qualification,Salary\n",
        "\n",
        "3. Interval Scale:- An interval scale has both order and consistent intervals between values, but it lacks a true zero point.\n",
        "\n",
        "  example:- Temperature\n",
        "\n",
        "4. Ratio Scale:- A ratio scale possesses all the characteristics of an interval scale, with the addition of a true zero point, meaning it reflects the complete absence of the attribute measured.\n",
        "\n",
        "  example:- Height,Weight,Age\n"
      ],
      "metadata": {
        "id": "u4-CE0rH6xI1"
      }
    },
    {
      "cell_type": "markdown",
      "source": [
        "\n",
        "\n",
        "---\n",
        "\n",
        "\n",
        "\n",
        "---\n",
        "\n"
      ],
      "metadata": {
        "id": "b3eDVgzoETc0"
      }
    },
    {
      "cell_type": "markdown",
      "source": [
        "Q2. What are the measures of central tendency, and when should you use each? Discuss the mean, median, and mode with examples and situations where each is appropriate.\n",
        "\n",
        "Sol. The central tendency measure is defined as the number used to represent the center or middle of a set of data values. The three commonly used measures of central tendency are the mean, median, and mode. Each measure provides insight into the data's \"central point\" but is used differently depending on the data's characteristics and distribution.\n",
        "\n",
        "1. Mean:- The mean is the arithmetic average; for calculating the mean add up all of the values and divide by the number of observations in your dataset.\n",
        "\n",
        "  example:- Mean of [70, 80, 90, 100, 110] is: (70+80+90+100+110)/5=90\n",
        "\n",
        "  Use the mean when the data is evenly distributed without extreme outliers.\n",
        "\n",
        "2.  Median: The Median for the sample data arranged in increasing order is defined as:\n",
        " 1. if “n” is an odd number then median is middle value\n",
        " 2. if “n” is an even number then median is midway between the two middle values\n",
        "\n",
        " Example\n",
        "\n",
        " 1. if “n” is odd:\n",
        "\n",
        " The re-ordered systolic blood pressure data: 113,124,125,132,146,151,170\n",
        "\n",
        " The median here is 132\n",
        "\n",
        " 2. if “n” is even:\n",
        "\n",
        " The new blood pressure data is : 125,176,155,149,163,178\n",
        "\n",
        " arrange  the  new blood pressure data in ascending order: 125,149,155,163,176,178\n",
        "\n",
        " The median is here is (155+163)/2=159\n",
        "\n",
        " Use the median when dealing with skewed data or when outliers are present\n",
        "\n",
        "3. Mode:- The mode is the value that appears most frequently in a dataset. It can be used with nominal, ordinal, interval, or ratio data.\n",
        "\n",
        "  example: mode of(9,10,8,10,10,11,12,10,10) is 10\n",
        "\n",
        "  Use the mode for categorical data, as it provides the most common category."
      ],
      "metadata": {
        "id": "RVGSJXCFBGUC"
      }
    },
    {
      "cell_type": "markdown",
      "source": [
        "\n",
        "\n",
        "---\n",
        "\n",
        "\n",
        "\n",
        "---\n",
        "\n"
      ],
      "metadata": {
        "id": "olWVK3OzEXy1"
      }
    },
    {
      "cell_type": "markdown",
      "source": [
        "Q3. Explain the concept of dispersion. How do variance and standard deviation measure the spread of data?\n",
        "\n",
        "Sol. Dispersion is a statistical concept that describes the spread or variability within a dataset. Measures of dispersion provide insight into how much individual data points deviate from the central tendency, such as the mean, and help assess the consistency or variability within the data.\n",
        "\n",
        "1. Variance:-\n",
        "    \n",
        "  Variance is the average of the squared differences from the mean. By squaring these differences, variance accounts for both positive and negative deviations, and emphasizes larger deviations since squaring amplifies their effect.\n",
        "\n",
        "  Variance is expressed in squared units of the original data, which can make interpretation challenging.\n",
        "\n",
        "2. Standard Deviation:-\n",
        "\n",
        "  The standard deviation is the square root of the variance, bringing the units back to the same scale as the original data. It provides a direct measure of the average distance of data points from the mean, making it more interpretable than variance.\n",
        "\n",
        "  "
      ],
      "metadata": {
        "id": "beUyLqteEYlC"
      }
    },
    {
      "cell_type": "markdown",
      "source": [
        "\n",
        "\n",
        "---\n",
        "\n",
        "\n",
        "\n",
        "---\n",
        "\n"
      ],
      "metadata": {
        "id": "wTO3d8LxGi87"
      }
    },
    {
      "cell_type": "markdown",
      "source": [
        "Q4. What is a box plot, and what can it tell you about the distribution of data?\n",
        "\n",
        "Sol. Box Plot is a graphical method to visualize data distribution for gaining insights and making informed decisions. Box plot is a type of chart that depicts a group of numerical data through their quartiles.\n",
        "\n",
        "![boxplot-660x233.png](data:image/png;base64,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)\n",
        "\n",
        "Median: The median line inside the box shows the typical test score.\n",
        "\n",
        "Quartiles: Q1 and Q3 show the range where most students scored.\n",
        "\n",
        "IQR: The middle 50% of students scored within this range.\n",
        "\n",
        "Skewness: If the right whisker is longer, more students scored higher than\n",
        "average, indicating positive skew.\n",
        "\n",
        "Outliers: Any points outside the whiskers may represent students who scored exceptionally high or low.\n"
      ],
      "metadata": {
        "id": "v4O0hC4WGj5h"
      }
    },
    {
      "cell_type": "markdown",
      "source": [
        "\n",
        "\n",
        "---\n",
        "\n",
        "\n",
        "\n",
        "---\n",
        "\n"
      ],
      "metadata": {
        "id": "4iOFP6CKH0K4"
      }
    },
    {
      "cell_type": "markdown",
      "source": [
        "Q5. Discuss the role of random sampling in making inferences about populations.\n",
        "\n",
        "Sol. Random Sampling is a method of selecting a subset of individuals or observations from a larger population in such a way that every possible sample of a given size has an equal chance of being chosen.\n",
        "\n",
        "Reduces bias:-\n",
        "Random sampling gives every individual in the population an equal chance of being selected, which reduces the risk of bias in the sample selection process. This impartiality helps to ensure that the findings are reflective of the population.\n",
        "\n",
        "Increases accuracy:-\n",
        "Random sampling helps to ensure that the sample statistics are as close to the population parameters as possible, which leads to more accurate inferences.\n",
        "\n",
        "Allows for generalizations:-\n",
        "Random sampling allows researchers to make generalizations about the population based on the sample, without having to survey or collect data from every individual in the population.\n",
        "\n",
        "Reduces cost and time:-\n",
        "Random sampling allows for a smaller subset of individuals or items to be selected, which can reduce the cost and time required for data collection.\n",
        "\n",
        "Supports Hypothesis Testing:-\n",
        "In research, hypothesis tests allow researchers to make decisions about the population based on sample data. Random sampling ensures that the sample is representative, which is a requirement for valid hypothesis testing. This makes it possible to determine if observed effects in the sample are likely to occur in the population or if they are due to chance.\n"
      ],
      "metadata": {
        "id": "5S6anH3jH1VE"
      }
    },
    {
      "cell_type": "markdown",
      "source": [
        "\n",
        "\n",
        "---\n",
        "\n",
        "\n",
        "\n",
        "---\n",
        "\n"
      ],
      "metadata": {
        "id": "YfdvEGtEKHy5"
      }
    },
    {
      "cell_type": "markdown",
      "source": [
        "Q6. Explain the concept of skewness and its types. How does skewness affect the interpretation of data?\n",
        "\n",
        "Sol. Skewness:-\n",
        "Skewness is asymmetry in a statistical distribution, in which the curve appears distorted or skewed to the left or right. Skewness can be quantified to define the extent to which a distribution differs from a normal distribution.\n",
        "\n",
        "Types of Skewness:-\n",
        "\n",
        "1. Symmetrical:-\n",
        "In a perfect normal distribution, the tails on either side of the curve are exact mirror images of each other.\n",
        "\n",
        "2. Negative Skewness:-\n",
        " When a distribution is skewed to the left, the tail on the curve's left-hand side is longer than the tail on the righthand side, and the mean is less than the mode. This situation is also called negative skewness.\n",
        "\n",
        "3. Positive Skewness:-\n",
        " When a distribution is skewed to the right, the tail on the curve's right-hand side is longer than the tail on the left-hand side, and the mean is greater than the mode. This situation is also called positive skewness.\n",
        "\n",
        "How Skewness Affects Data Interpretation\n",
        "\n",
        "1. Central Tendency:-\n",
        "Skewness affects which measure of central tendency (mean, median, mode) best represents the data.\n",
        "In skewed distributions, the median is often a better measure of central tendency than the mean, as it is less influenced by extreme values.\n",
        "\n",
        "2. Spread and Outliers:\n",
        "Skewness can indicate the presence of outliers or extreme values. Positive skew implies the presence of high outliers, while negative skew suggests low outliers.\n",
        "These outliers affect measures like the mean and can impact interpretations of variability, such as variance and standard deviation.\n",
        "\n",
        "3. Selection of Statistical Methods:\n",
        "Many statistical tests, such as t-tests and ANOVA, assume that data is normally distributed (symmetrical).\n",
        "If data is highly skewed, these tests may give misleading results, so alternative non-parametric tests (e.g., Mann-Whitney U test) may be more appropriate.\n",
        "\n",
        "4. Data Transformation:\n",
        "Highly skewed data may be transformed to reduce skewness and meet normality assumptions. Common transformations include logarithmic, square root, or inverse transformations.\n",
        "For example, taking the logarithm of right-skewed data can make it more symmetrical and suitable for parametric tests."
      ],
      "metadata": {
        "id": "l6E_5pSbKInq"
      }
    },
    {
      "cell_type": "markdown",
      "source": [
        "\n",
        "\n",
        "---\n",
        "\n",
        "\n",
        "\n",
        "---\n",
        "\n"
      ],
      "metadata": {
        "id": "Ovhx_Vy8LdGt"
      }
    },
    {
      "cell_type": "markdown",
      "source": [
        "Q7. What is the interquartile range (IQR), and how is it used to detect outliers?\n",
        "\n",
        "Sol. The interquartile range (IQR) is a measure of statistical dispersion that indicates the range within which the middle 50% of data points lie. It is calculated by subtracting the first quartile (Q1) from the third quartile (Q3):\n",
        "\n",
        "      IQR = Q3 - Q1\n",
        "\n",
        "Lower Bound = Q1−1.5×IQR\n",
        "\n",
        "Upper Bound = Q3+1.5×IQR\n",
        "\n",
        "Any data point below the Lower Bound or above the Upper Bound is considered an outlier."
      ],
      "metadata": {
        "id": "O8v3UxkXLd8m"
      }
    },
    {
      "cell_type": "markdown",
      "source": [
        "\n",
        "\n",
        "---\n",
        "\n",
        "\n",
        "\n",
        "---\n",
        "\n"
      ],
      "metadata": {
        "id": "tgQuMLoaMXQL"
      }
    },
    {
      "cell_type": "markdown",
      "source": [
        "Q8. Discuss the conditions under which the binomial distribution is used.\n",
        "\n",
        "Sol. the conditions under which the binomial distribution is used:-\n",
        "\n",
        "1. Fixed number of trials: The number of trials, \\(n\\), is fixed and cannot be changed during analysis.\n",
        "\n",
        "2. Two outcomes: There are only two possible outcomes for each trial, usually called \"success\" or \"failure\"\n",
        "\n",
        "3. Fixed probability of success: The probability of success, \\(p\\), is the same for each trial.\n",
        "\n",
        "4. Independent trials: The outcome of one trial does not affect the outcome of the subsequent trials."
      ],
      "metadata": {
        "id": "RXiIACWOMY-N"
      }
    },
    {
      "cell_type": "markdown",
      "source": [
        "\n",
        "\n",
        "---\n",
        "\n",
        "\n",
        "\n",
        "---\n",
        "\n"
      ],
      "metadata": {
        "id": "bf35sFkzNZji"
      }
    },
    {
      "cell_type": "markdown",
      "source": [
        "Q9. Explain the properties of the normal distribution and the empirical rule (68-95-99.7 rule).\n",
        "\n",
        "Sol. The normal distribution, also known as the Gaussian distribution, is one of the most important probability distributions in statistics. It is a continuous probability distribution characterized by a symmetric, bell-shaped curve. Here are its key properties:\n",
        "\n",
        "Properties of the Normal Distribution:-\n",
        "\n",
        "1. Symmetry: The normal distribution is symmetric around its mean, meaning the left side of the curve is a mirror image of the right side.\n",
        "\n",
        "2. Mean, Median, and Mode Are Equal: In a normal distribution, the mean, median, and mode all lie at the center of the distribution and are equal. This central value represents the peak of the bell curve.\n",
        "\n",
        "3. Bell-Shaped Curve: The distribution has a characteristic \"bell\" shape. It starts low, peaks at the mean, and then tapers off symmetrically on both sides.\n",
        "\n",
        "4. Defined by Mean and Standard Deviation: The shape of a normal distribution is determined by two parameters:\n",
        "\n",
        "  *   The mean (μ), which sets the center of the distribution.\n",
        "  *   The standard deviation (σ), which controls the spread of the distribution.\n",
        "\n",
        "5. Asymptotic: The tails of the normal distribution approach, but never touch, the horizontal axis. This means that extreme values are possible but increasingly rare.\n",
        "\n",
        "7. Total Area Under the Curve is 1: The entire area under the normal distribution curve equals 1, representing the total probability of all possible outcomes.\n",
        "\n",
        "\n",
        "The Empirical Rule (68-95-99.7 Rule):-\n",
        "\n",
        "The Empirical Rule, also known as the 68-95-99.7 Rule, is a shorthand used to understand the distribution of values in a normal distribution. This rule provides approximate percentages of data that fall within certain standard deviations of the mean:\n",
        "\n",
        "1. 68% of Data Within 1 Standard Deviation: About 68% of the data in a normal distribution falls within one standard deviation of the mean, i.e., between μ−σ and μ+σ.\n",
        "\n",
        "2. 95% of Data Within 2 Standard Deviations: Roughly 95% of the data falls within two standard deviations of the mean, i.e., between μ−2σ and μ+2σ.\n",
        "\n",
        "3. 99.7% of Data Within 3 Standard Deviations: Approximately 99.7% of the data falls within three standard deviations of the mean, i.e., between μ−3σ and μ+3σ."
      ],
      "metadata": {
        "id": "xGZDw_DENadS"
      }
    },
    {
      "cell_type": "markdown",
      "source": [
        "\n",
        "\n",
        "---\n",
        "\n",
        "\n",
        "\n",
        "---\n",
        "\n"
      ],
      "metadata": {
        "id": "WRQvET_sOngJ"
      }
    },
    {
      "cell_type": "markdown",
      "source": [
        "Q10. Provide a real-life example of a Poisson process and calculate the probability for a specific event.\n",
        "\n",
        "Sol. A Poisson process is often used to model random events occurring independently over time or space, where events are relatively rare, and their occurrences are not influenced by each other.\n",
        "\n",
        "Real life Examples:-\n",
        "\n",
        "1. Customers arrive independently of each other.\n",
        "\n",
        "2. The average rate of arrival (5 customers per hour) is consistent.\n",
        "\n",
        "3. The number of customers arriving in a given time period depends only on the length of that period and not on what happened before or after.\n",
        "\n",
        "\n"
      ],
      "metadata": {
        "id": "mcwAxOVzOoZ1"
      }
    },
    {
      "cell_type": "code",
      "source": [
        "import math\n",
        "\n",
        "lambda_rate = 5\n",
        "k = 3\n",
        "\n",
        "# Calculate the probability\n",
        "poisson_probability = (lambda_rate ** k) * math.exp(-lambda_rate) / math.factorial(k)\n",
        "poisson_probability\n"
      ],
      "metadata": {
        "colab": {
          "base_uri": "https://localhost:8080/"
        },
        "id": "OGxB2AbMRMDN",
        "outputId": "0b8c950d-0987-4611-915d-734c218f3c70"
      },
      "execution_count": 3,
      "outputs": [
        {
          "output_type": "execute_result",
          "data": {
            "text/plain": [
              "0.14037389581428056"
            ]
          },
          "metadata": {},
          "execution_count": 3
        }
      ]
    },
    {
      "cell_type": "markdown",
      "source": [
        "\n",
        "\n",
        "---\n",
        "\n",
        "\n",
        "\n",
        "---\n",
        "\n"
      ],
      "metadata": {
        "id": "-AakG3NyPoC4"
      }
    },
    {
      "cell_type": "markdown",
      "source": [
        "Q11. Explain what a random variable is and differentiate between discrete and continuous random variables.\n",
        "\n",
        "Sol.A random variable is a function that assigns a numerical value to each outcome in a sample space.\n",
        "\n",
        "Discrete Random Variable:-\n",
        "\n",
        "1. Takes on countable values.\n",
        "\n",
        "2. Each outcome has a non-zero probability, but the sum of probabilities for all possible values is 1.\n",
        "\n",
        "3. Often represented by a bar chart showing the probability for each possible value.\n",
        "\n",
        "Continuous Random Variable:-\n",
        "\n",
        "1. Takes on an infinite number of values within a range.\n",
        "\n",
        "2. The probability of the variable taking any exact value is zero; instead, probabilities are defined over intervals.\n",
        "\n",
        "3. Represented by a smooth curve, often a bell curve in the case of normally distributed data."
      ],
      "metadata": {
        "id": "4pAbaNxHPpXL"
      }
    },
    {
      "cell_type": "markdown",
      "source": [
        "\n",
        "\n",
        "---\n",
        "\n",
        "\n",
        "\n",
        "---\n",
        "\n"
      ],
      "metadata": {
        "id": "PAniHe8sQlP1"
      }
    },
    {
      "cell_type": "markdown",
      "source": [
        "Q12. Provide an example dataset, calculate both covariance and correlation, and interpret the results."
      ],
      "metadata": {
        "id": "cB87tNfAOvga"
      }
    },
    {
      "cell_type": "code",
      "source": [
        "import numpy as np\n",
        "\n",
        "# Define the dataset\n",
        "X = np.array([2, 4, 6, 8, 10])\n",
        "Y = np.array([4, 8, 9, 10, 12])\n",
        "\n",
        "# Calculate means\n",
        "mean_X = np.mean(X)\n",
        "mean_Y = np.mean(Y)\n",
        "\n",
        "# Calculate covariance\n",
        "covariance = np.sum((X - mean_X) * (Y - mean_Y)) / (len(X) - 1)\n",
        "covariance\n"
      ],
      "metadata": {
        "colab": {
          "base_uri": "https://localhost:8080/"
        },
        "id": "STFH7s2qPMqD",
        "outputId": "6807d46b-c134-4be6-a3dc-cede27ae6fdf"
      },
      "execution_count": 1,
      "outputs": [
        {
          "output_type": "execute_result",
          "data": {
            "text/plain": [
              "9.0"
            ]
          },
          "metadata": {},
          "execution_count": 1
        }
      ]
    },
    {
      "cell_type": "markdown",
      "source": [
        "The positive covariance of 9.0 suggests that X and Y tend to increase together."
      ],
      "metadata": {
        "id": "6kqwhBwFPcAa"
      }
    },
    {
      "cell_type": "code",
      "source": [
        "# Calculate standard deviations of X and Y\n",
        "std_X = np.std(X, ddof=1)\n",
        "std_Y = np.std(Y, ddof=1)\n",
        "\n",
        "# Calculate correlation\n",
        "correlation = covariance / (std_X * std_Y)\n",
        "correlation"
      ],
      "metadata": {
        "colab": {
          "base_uri": "https://localhost:8080/"
        },
        "id": "IViWtX4iPNeZ",
        "outputId": "5c98bcd3-68e8-448b-b39d-f21ded8e5f4a"
      },
      "execution_count": 2,
      "outputs": [
        {
          "output_type": "execute_result",
          "data": {
            "text/plain": [
              "0.9594032236002469"
            ]
          },
          "metadata": {},
          "execution_count": 2
        }
      ]
    },
    {
      "cell_type": "markdown",
      "source": [
        "The correlation of 0.96 further quantifies this relationship, showing that the linear association between X and Y is both strong and positive. Since this value is close to 1, it suggests that the increase in Y is highly consistent with increases in X"
      ],
      "metadata": {
        "id": "ob_8P0qfPgPh"
      }
    }
  ]
}